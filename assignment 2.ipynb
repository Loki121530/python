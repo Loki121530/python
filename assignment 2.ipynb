{
 "cells": [
  {
   "cell_type": "code",
   "execution_count": 3,
   "id": "9b862ccb",
   "metadata": {},
   "outputs": [
    {
     "name": "stdout",
     "output_type": "stream",
     "text": [
      "False\n"
     ]
    }
   ],
   "source": [
    "#1.question\n",
    "#1.What are the two values of the Boolean data type? How do you write them?\n",
    "\n",
    "###Ans\n",
    "# True and False are the two values of boolean data type.Normally these are used to represent the truth values of the expressions\n",
    "#  example : 5==5 is True and 10>1 is True\n",
    "#            10<1 is False and 5>10 is False\n",
    "\n",
    "# example :\n",
    "x = 10\n",
    "y = 15\n",
    "print(bool(x==y))\n"
   ]
  },
  {
   "cell_type": "code",
   "execution_count": null,
   "id": "14278505",
   "metadata": {},
   "outputs": [],
   "source": [
    "#2.question\n",
    "#2. What are the three different types of Boolean operators?\n",
    "\n",
    "###Ans\n",
    "# the three types of boolean operators are\n",
    "#1. and\n",
    "#2. or\n",
    "#3. not\n",
    "\n"
   ]
  },
  {
   "cell_type": "code",
   "execution_count": null,
   "id": "65f3e474",
   "metadata": {},
   "outputs": [],
   "source": [
    "#3.question\n",
    "#3. Make a list of each Boolean operator's truth tables (i.e. every possible combination of Boolean values for the operator \n",
    "#   and what it evaluate ).\n",
    "\n",
    "### Ans\n",
    "\n",
    "#1.  and operator returns false if any one of the input is false otherwise returs true\n",
    "#    A         B          A and B\n",
    "#  True      True         True\n",
    "#  True      False        False\n",
    "#  False     True         False\n",
    "#  False     False        False\n",
    "\n",
    "#2.  or operator returns true if any one of the input is true otherwise returns false\n",
    "\n",
    "#    A         B          A or B\n",
    "#  True      True         True\n",
    "#  True      False        True\n",
    "#  False     True         Trues\n",
    "#  False     False        False\n",
    "\n",
    "#3. not operator only requires one argument.it returns True for False and False for True\n",
    "\n",
    "#    A      notA\n",
    "#   True   False\n",
    "#   False  True\n",
    "\n"
   ]
  },
  {
   "cell_type": "code",
   "execution_count": null,
   "id": "abcfa4a3",
   "metadata": {},
   "outputs": [],
   "source": [
    "#4.question\n",
    "#4. What are the values of the following expressions?\n",
    "\n",
    "#1.(5 > 4) and (3 == 5)\n",
    "#  False\n",
    "\n",
    "#2. not (5 > 4)\n",
    "#   False\n",
    "\n",
    "#3.(5 > 4) or (3 == 5)\n",
    "#  True\n",
    "\n",
    "#4.not ((5 > 4) or (3 == 5))\n",
    "#  False\n",
    "\n",
    "#5.(True and True) and (True == False)\n",
    "#  False\n",
    "\n",
    "#6.(not False) or (not True)\n",
    "#  True\n",
    "\n"
   ]
  },
  {
   "cell_type": "code",
   "execution_count": null,
   "id": "15b4fcab",
   "metadata": {},
   "outputs": [],
   "source": [
    "#5.question\n",
    "#5. What are the six comparison operators?\n",
    "\n",
    "###Ans\n",
    "#  the six comparison operators are\n",
    "\n",
    "#1. >  (greater than)\n",
    "#2. <  (less than)\n",
    "#3. >= (greter than or equal to)\n",
    "#4. <= (less than or equal to)\n",
    "#5. == ( equal to)\n",
    "#6. != ( not equal to)\n",
    "\n"
   ]
  },
  {
   "cell_type": "code",
   "execution_count": 5,
   "id": "eb5bcf02",
   "metadata": {},
   "outputs": [
    {
     "name": "stdout",
     "output_type": "stream",
     "text": [
      "false\n"
     ]
    }
   ],
   "source": [
    "#6.question\n",
    "#6.How do you tell the difference between the equal to and assignment operators?Describe a condition and when you would use one.\n",
    " \n",
    "###Ans\n",
    "#  equal to == operator check weather the given operands are equal or not but the assignment operator = is used to assign \n",
    "#  a value to a variables\n",
    "\n",
    "a = 10\n",
    "b = 15\n",
    "if a==b :\n",
    "    print(\"true\")\n",
    "else:s\n",
    "    print(\"false\")"
   ]
  },
  {
   "cell_type": "code",
   "execution_count": null,
   "id": "11284d84",
   "metadata": {},
   "outputs": [],
   "source": [
    "#7.question\n",
    "#7.Identify the three blocks in this code:\n",
    "#spam = 0\n",
    "if spam == 10:\n",
    "    print(\"eggs\")\n",
    "if spam > 5:\n",
    "    print(\"bacon\")\n",
    "else:\n",
    "    print('ham')\n",
    "    print('spam')\n",
    "    print('spam')\n",
    "    \n",
    "###Ans\n",
    "#block 1: print('eggs')\n",
    "#block 2: print('bacon')\n",
    "#block 3: print(\"ham\")\n",
    "#         print('spam')\n",
    "#         print('spam')\n",
    "\n"
   ]
  },
  {
   "cell_type": "code",
   "execution_count": null,
   "id": "cb072f3b",
   "metadata": {},
   "outputs": [],
   "source": [
    "#8.question\n",
    "#8. Write code that prints Hello if 1 is stored in spam, prints Howdy if 2 is stored in spam, and prints Greetings! \n",
    "#      if anything else is stored in spam.\n",
    "\n",
    "###Ans\n",
    "spam = int(input('enter a value for spam: '))\n",
    "if spam==1:\n",
    "    print(\"hello\")\n",
    "elif spam==2:\n",
    "    print('howdy')\n",
    "else:\n",
    "    print('Greetigs')\n",
    "    "
   ]
  },
  {
   "cell_type": "code",
   "execution_count": null,
   "id": "2e642d5d",
   "metadata": {},
   "outputs": [],
   "source": [
    "#9.question\n",
    "#9.If your programme is stuck in an endless loop, what keys you’ll press?\n",
    "\n",
    "###Ans\n",
    "# programme is stuck in an endless loop we have to press  ctrl + c key\n",
    "\n"
   ]
  },
  {
   "cell_type": "code",
   "execution_count": null,
   "id": "0bf260c3",
   "metadata": {},
   "outputs": [],
   "source": [
    "#10.question\n",
    "#10. How can you tell the difference between break and continue?\n",
    "\n",
    "###Ans\n",
    "# break:\n",
    "#     break key word termiates the execution of the current loop and passes the cotrol to the next loop\n",
    "# continue:\n",
    "#     continue key word skips the current iteration and execute very next iteration in the loop\n"
   ]
  },
  {
   "cell_type": "code",
   "execution_count": null,
   "id": "d34932e3",
   "metadata": {},
   "outputs": [],
   "source": [
    "#11.question\n",
    "#11.In a for loop, what is the difference between range(10), range(0, 10), and range(0, 10, 1)?\n",
    "\n",
    "###Ans\n",
    "# range(10) , range (0,10) and range (0,10,1) all are same there is no difference\n",
    "\n"
   ]
  },
  {
   "cell_type": "code",
   "execution_count": 6,
   "id": "7f720339",
   "metadata": {},
   "outputs": [
    {
     "name": "stdout",
     "output_type": "stream",
     "text": [
      "0\n",
      "1\n",
      "2\n",
      "3\n",
      "4\n",
      "5\n",
      "6\n",
      "7\n",
      "8\n",
      "9\n",
      "10\n"
     ]
    }
   ],
   "source": [
    "#12.question\n",
    "#12. Write a short program that prints the numbers 1 to 10 using a for loop. Then write an equivalent program that prints \n",
    "#    the numbers 1 to 10 using a while loop.\n",
    "\n",
    "###Ans\n",
    "\n",
    "for i in range (0,11):\n",
    "    print(i)\n",
    "    \n",
    "    "
   ]
  },
  {
   "cell_type": "code",
   "execution_count": 7,
   "id": "4c7291c6",
   "metadata": {},
   "outputs": [
    {
     "name": "stdout",
     "output_type": "stream",
     "text": [
      "1\n",
      "2\n",
      "3\n",
      "4\n",
      "5\n",
      "6\n",
      "7\n",
      "8\n",
      "9\n",
      "10\n"
     ]
    }
   ],
   "source": [
    "a = 0\n",
    "b = 10\n",
    "\n",
    "while a <b :\n",
    "    \n",
    "    a = a +1\n",
    "    print(a)\n",
    "    "
   ]
  },
  {
   "cell_type": "code",
   "execution_count": null,
   "id": "990ebdee",
   "metadata": {},
   "outputs": [],
   "source": [
    "#13.question\n",
    "#13. If you had a function named bacon() inside a module named spam, how would you call it after importing spam?\n",
    "###Ans\n",
    "# the function is called spam.bacon()\n",
    "\n"
   ]
  }
 ],
 "metadata": {
  "kernelspec": {
   "display_name": "Python 3 (ipykernel)",
   "language": "python",
   "name": "python3"
  },
  "language_info": {
   "codemirror_mode": {
    "name": "ipython",
    "version": 3
   },
   "file_extension": ".py",
   "mimetype": "text/x-python",
   "name": "python",
   "nbconvert_exporter": "python",
   "pygments_lexer": "ipython3",
   "version": "3.9.12"
  }
 },
 "nbformat": 4,
 "nbformat_minor": 5
}
