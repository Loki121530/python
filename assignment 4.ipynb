{
 "cells": [
  {
   "cell_type": "code",
   "execution_count": null,
   "id": "fcfc97d1",
   "metadata": {},
   "outputs": [],
   "source": [
    "###1.question\n",
    "##1.What exactly is []?\n",
    "\n",
    "###Ans\n",
    "# it is an empty list\n"
   ]
  },
  {
   "cell_type": "code",
   "execution_count": 5,
   "id": "7e0d8b5c",
   "metadata": {},
   "outputs": [],
   "source": [
    "###2.question\n",
    "##2. In a list of values stored in a variable called spam, how would you assign the value \"hello\" as the third value?\n",
    "#     (Assume [2, 4, 6, 8, 10] are in spam.)\n",
    "\n",
    "###Ans\n",
    "spam = [2,4,6,8,10]\n",
    "spam.insert(2,\"hello\")"
   ]
  },
  {
   "cell_type": "code",
   "execution_count": 6,
   "id": "af42c4bd",
   "metadata": {},
   "outputs": [
    {
     "data": {
      "text/plain": [
       "[2, 4, 'hello', 6, 8, 10]"
      ]
     },
     "execution_count": 6,
     "metadata": {},
     "output_type": "execute_result"
    }
   ],
   "source": [
    "spam"
   ]
  },
  {
   "cell_type": "code",
   "execution_count": 8,
   "id": "2acd78c5",
   "metadata": {},
   "outputs": [
    {
     "data": {
      "text/plain": [
       "'d'"
      ]
     },
     "execution_count": 8,
     "metadata": {},
     "output_type": "execute_result"
    }
   ],
   "source": [
    "###3.question\n",
    "#Let's pretend the spam includes the list ['a','b','c','d'] for the next three queries.\n",
    "##3.What is the value of spam[int(int('3' * 2) / 11)]?\n",
    "spam = ['a','b','c','d']\n",
    "spam[int(int('3' * 2) / 11)]\n"
   ]
  },
  {
   "cell_type": "code",
   "execution_count": null,
   "id": "113744c3",
   "metadata": {},
   "outputs": [],
   "source": [
    "###4.question\n",
    "#4. What is the value of spam[-1]?\n",
    "\n",
    "###Ans\n",
    "# 'd'\n"
   ]
  },
  {
   "cell_type": "code",
   "execution_count": null,
   "id": "469f3cdd",
   "metadata": {},
   "outputs": [],
   "source": [
    "###5.question\n",
    "#5. What is the value of spam[:2]?\n",
    "\n",
    "###Ans\n",
    "\n",
    "# ['a','b']\n"
   ]
  },
  {
   "cell_type": "code",
   "execution_count": null,
   "id": "a429f54f",
   "metadata": {},
   "outputs": [],
   "source": [
    "###6.question\n",
    "#Let's pretend bacon has the list [3.14,'cat' ,11 ,'cat', True] for the next three questions.\n",
    "#6. What is the value of bacon.index('cat')?\n",
    "###Ans\n",
    "#  1\n"
   ]
  },
  {
   "cell_type": "code",
   "execution_count": null,
   "id": "02ff7bca",
   "metadata": {},
   "outputs": [],
   "source": [
    "###7.question\n",
    "#7.How does bacon.append(99) change the look of the list value in bacon?\n",
    "\n",
    "###Ans\n",
    "# bacon = [3.14 ,'cat' , 11 , 'cat' , True] \n"
   ]
  },
  {
   "cell_type": "code",
   "execution_count": null,
   "id": "b4d823b2",
   "metadata": {},
   "outputs": [],
   "source": [
    "###8.question\n",
    "#8.How does bacon.remove('cat') change the look of the list in bacon?\n",
    "\n",
    "###Ans\n",
    "# bacon = [3.14 ,11 ,'cat' , True]\n"
   ]
  },
  {
   "cell_type": "code",
   "execution_count": null,
   "id": "0a30add2",
   "metadata": {},
   "outputs": [],
   "source": [
    "###9.question\n",
    "#9.What are the list concatenation and list replication operators?\n",
    "\n",
    "###Ans\n",
    "# list concatenation operator is \"+\"\n",
    "# list replication operator is \"*\"\n"
   ]
  },
  {
   "cell_type": "code",
   "execution_count": null,
   "id": "ac247d58",
   "metadata": {},
   "outputs": [],
   "source": [
    "###10.question\n",
    "#10. What is difference between the list methods append() and insert()?\n",
    "\n",
    "###Ans\n",
    "# append() is used to add the elements in the last index\n",
    "# insert() is used to add the elements at any index position in the list\n"
   ]
  },
  {
   "cell_type": "code",
   "execution_count": null,
   "id": "1f489690",
   "metadata": {},
   "outputs": [],
   "source": [
    "###11.question\n",
    "#11. What are the two methods for removing items from a list?\n",
    "\n",
    "###Ans\n",
    "\n",
    "#pop() method is used to remove the element from perticular index of list\n",
    "#remove() method is used to remove the specific element from the list if duplicate elements present in the list very first one \n",
    "#   will remove from the list\n"
   ]
  },
  {
   "cell_type": "code",
   "execution_count": null,
   "id": "e81733d0",
   "metadata": {},
   "outputs": [],
   "source": [
    "###12.question\n",
    "#12. Describe how list values and string values are identical.\n",
    "\n",
    "###Ans\n",
    "#  In list we can store any type of data type without changing its data type\n",
    "  l = [1,2,3,'raju',True]\n",
    "#  In string we can store anytype of data type but the stored data type must be converted to string data type\n",
    "   s = ('k','l','i','1','w','o','1.5')\n",
    "    "
   ]
  },
  {
   "cell_type": "code",
   "execution_count": null,
   "id": "af4f5eb2",
   "metadata": {},
   "outputs": [],
   "source": [
    "###13.question\n",
    "#13. What is the difference between tuples and lists?\n",
    "\n",
    "###Ans\n",
    "# list is mutable , we can assign any new value to any index in the list\n",
    "# tuple is immutable , we can not assign a new value to any index\n"
   ]
  },
  {
   "cell_type": "code",
   "execution_count": null,
   "id": "844dca24",
   "metadata": {},
   "outputs": [],
   "source": [
    "###14.question\n",
    "#14. How do you type a tuple value that only contains the integer 42?\n",
    "\n",
    "###Ans\n",
    "#  t = (42,)\n",
    "# without using \",\" it became integer\n"
   ]
  },
  {
   "cell_type": "code",
   "execution_count": null,
   "id": "796920f9",
   "metadata": {},
   "outputs": [],
   "source": [
    "###15.question\n",
    "##15. How do you get a list values tuple form? How do you get a tuple values list form?\n",
    "\n",
    "###Ans\n",
    "# l = [1,2,3,4]\n",
    "# using tuple()key word we can convert list to tuple , example  tuple(l)\n",
    "\n",
    "# t = (1,2,3,4)\n",
    "# using list()key word we can convert tuple to list , example  list(t)\n"
   ]
  },
  {
   "cell_type": "code",
   "execution_count": null,
   "id": "907fc075",
   "metadata": {},
   "outputs": [],
   "source": [
    "###16.question\n",
    "#16. Variables that \"contain\" list values are not necessarily lists themselves. Instead, what do they contain?\n",
    "\n",
    "###Ans\n",
    "#  Variables that \"contain\" list values are not necessarily lists themselves. Instead they may be integers or strings\n"
   ]
  },
  {
   "cell_type": "code",
   "execution_count": null,
   "id": "00ec6e17",
   "metadata": {},
   "outputs": [],
   "source": [
    "###17.question\n",
    "#17. How do you distinguish between copy.copy() and copy.deepcopy()?\n",
    "\n",
    "###Ans \n",
    "# copy() create reference to original object , if we change the copy object origial object also changes\n",
    "# deepcopy() create a new object and copying of original to new object , if we change the deepcopy() object , there is no \n",
    "# no changes in the original object\n"
   ]
  }
 ],
 "metadata": {
  "kernelspec": {
   "display_name": "Python 3 (ipykernel)",
   "language": "python",
   "name": "python3"
  },
  "language_info": {
   "codemirror_mode": {
    "name": "ipython",
    "version": 3
   },
   "file_extension": ".py",
   "mimetype": "text/x-python",
   "name": "python",
   "nbconvert_exporter": "python",
   "pygments_lexer": "ipython3",
   "version": "3.9.12"
  }
 },
 "nbformat": 4,
 "nbformat_minor": 5
}
