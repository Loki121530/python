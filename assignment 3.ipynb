{
 "cells": [
  {
   "cell_type": "code",
   "execution_count": null,
   "id": "bbabd21a",
   "metadata": {},
   "outputs": [],
   "source": [
    "##1.question\n",
    "#1. Why are functions advantageous to have in your programs?\n",
    "\n",
    "###Ans\n",
    "##   By using the functions we can reduce the code and also fuctions make the code easy to understand and also functions \n",
    "#    reusable with in the program.\n",
    "\n"
   ]
  },
  {
   "cell_type": "code",
   "execution_count": null,
   "id": "4842fd4d",
   "metadata": {},
   "outputs": [],
   "source": [
    "##2.question\n",
    "##2. When does the code in a function run: when its specified or when it's called?\n",
    "\n",
    "## function is going to run when its called.\n"
   ]
  },
  {
   "cell_type": "code",
   "execution_count": null,
   "id": "0883fc22",
   "metadata": {},
   "outputs": [],
   "source": [
    "## 3.question\n",
    "##3. What statement creates a function?\n",
    "\n",
    "### Ans\n",
    "## \" def \" keyword creates the function\n"
   ]
  },
  {
   "cell_type": "code",
   "execution_count": null,
   "id": "7a8712a3",
   "metadata": {},
   "outputs": [],
   "source": [
    "##4.question\n",
    "##4. What is the difference between a function and a function call?\n",
    "\n",
    "###Ans\n",
    "## function :\n",
    "#     function is a code written to a specific or a perticular operation\n",
    "\n",
    "## function call is used to run the program\n"
   ]
  },
  {
   "cell_type": "code",
   "execution_count": null,
   "id": "0fa768ce",
   "metadata": {},
   "outputs": [],
   "source": [
    "###5.question\n",
    "###5.How many global scopes are there in a Python program? How many local scopes?\n",
    "\n",
    "###Ans\n",
    "##  part of a program where a programe is accesible is called its scope.\n",
    "\n",
    "#    global scope is we can define a variable out side the function and we use that variable anytime and anywhere in the\n",
    "# program. so for a programe global scope is always single\n",
    "\n",
    "#    local scope is we define the variable with in the function and we use the local variable with in the function only so\n",
    "# we can define any number of local variables for the function.\n"
   ]
  },
  {
   "cell_type": "code",
   "execution_count": null,
   "id": "254a2705",
   "metadata": {},
   "outputs": [],
   "source": [
    "###6.question\n",
    "##6.What happens to variables in a local scope when the function call returns?\n",
    "\n",
    "###Ans\n",
    "#  local variables are going to dissapper after the execution of the function\n"
   ]
  },
  {
   "cell_type": "code",
   "execution_count": null,
   "id": "4a18b41f",
   "metadata": {},
   "outputs": [],
   "source": [
    "###7.question\n",
    "##7. What is the concept of a return value? Is it possible to have a return value in an expression?\n",
    "\n",
    "###Ans\n",
    "#  return value is used the end the execusion of the function and returns the results.\n",
    "#  yes, it is possible to have a return value in an expression and if the return value without expression is going to give the \n",
    "#  specific value none return \n"
   ]
  },
  {
   "cell_type": "code",
   "execution_count": null,
   "id": "876ea9b4",
   "metadata": {},
   "outputs": [],
   "source": [
    "###8.question\n",
    "##8.If a function does not have a return statement, what is the return value of a call to that function?\n",
    "\n",
    "###Ans\n",
    "#  if a function doesnot have a retur statement ,then python will implicitly return a default value that default value always\n",
    "#  be none.\n"
   ]
  },
  {
   "cell_type": "code",
   "execution_count": null,
   "id": "937f5240",
   "metadata": {},
   "outputs": [],
   "source": [
    "###9.question\n",
    "##9.How do you make a function variable refer to the global variable?\n",
    "\n",
    "###Ans\n",
    "# by using the \"global\" key word before the variable, we can convet any local variable in the function to global veriable\n"
   ]
  },
  {
   "cell_type": "code",
   "execution_count": null,
   "id": "1d6536b1",
   "metadata": {},
   "outputs": [],
   "source": [
    "###10.question\n",
    "##10.What is the data type of None?\n",
    "\n",
    "###Ans\n",
    "## the data type of of none is \"none\". none is the only data type having its own none type\n"
   ]
  },
  {
   "cell_type": "code",
   "execution_count": null,
   "id": "1e0fe54f",
   "metadata": {},
   "outputs": [],
   "source": [
    "###11.question\n",
    "##11. What does the sentence import areallyourpetsnamederic do?\n",
    "\n",
    "###Ans\n",
    "## the import statement imports a module named areallyourpetsnamederic.\n"
   ]
  },
  {
   "cell_type": "code",
   "execution_count": null,
   "id": "e22d8aa8",
   "metadata": {},
   "outputs": [],
   "source": [
    "###12.question\n",
    "##12.If you had a bacon() feature in a spam module, what would you call it after importing spam?\n",
    "\n",
    "###Ans\n",
    "#  we can call it spam.bacon()\n"
   ]
  },
  {
   "cell_type": "code",
   "execution_count": null,
   "id": "a709b3c2",
   "metadata": {},
   "outputs": [],
   "source": [
    "###13.question\n",
    "##13.What can you do to save a programme from crashing if it encounters an error?\n",
    "\n",
    "###Ans\n",
    "## by using exception handling method we can save the programe from crashing, by settig the code in between try and except\n",
    "#  blocks we can save the code from crashig. try run the programe and gives error insted of crashing the programe\n"
   ]
  },
  {
   "cell_type": "code",
   "execution_count": null,
   "id": "9f13334b",
   "metadata": {},
   "outputs": [],
   "source": [
    "###14.question\n",
    "##14.What is the purpose of the try clause? What is the purpose of the except clause?\n",
    "\n",
    "###Ans\n",
    "#  try block is run the code and raising error , except block is executes. without having try block programe crash and raise \n",
    "#  error "
   ]
  }
 ],
 "metadata": {
  "kernelspec": {
   "display_name": "Python 3 (ipykernel)",
   "language": "python",
   "name": "python3"
  },
  "language_info": {
   "codemirror_mode": {
    "name": "ipython",
    "version": 3
   },
   "file_extension": ".py",
   "mimetype": "text/x-python",
   "name": "python",
   "nbconvert_exporter": "python",
   "pygments_lexer": "ipython3",
   "version": "3.9.12"
  }
 },
 "nbformat": 4,
 "nbformat_minor": 5
}
