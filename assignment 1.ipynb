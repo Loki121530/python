{
 "cells": [
  {
   "cell_type": "code",
   "execution_count": null,
   "id": "3930615c",
   "metadata": {},
   "outputs": [],
   "source": [
    "# 1.question\n",
    "#1. In the below elements which of them are values or an expression? eg:- values can be integer or string and expressions \n",
    "#   will be mathematical operators.\n",
    "\n",
    "\n",
    "###Ans\n",
    "# 1. *      is mathematical operator------ expression \n",
    "# 2.'hello' is string ----value\n",
    "# 3. -87.8  is float   ---value\n",
    "# 4.  -     is mathematical operator------ expression\n",
    "# 5.  /     is mathematical operator-------expression\n",
    "# 6.  +     is mathematical operator-------expression\n",
    "# 7.  6     is integer----value\n"
   ]
  },
  {
   "cell_type": "code",
   "execution_count": null,
   "id": "9deeb4b7",
   "metadata": {},
   "outputs": [],
   "source": [
    "# 2.question\n",
    "# 2.What is the difference between string and variable?\n",
    "\n",
    "\n",
    "###Ans\n",
    "# Variable \n",
    "#     it used to store the data . it may be in the form of integer or string or boolean or float\n",
    "# String\n",
    "#     it is one of the data types and used to store the characters and enclosed with single or double quotes"
   ]
  },
  {
   "cell_type": "code",
   "execution_count": null,
   "id": "3a28c2e6",
   "metadata": {},
   "outputs": [],
   "source": [
    "#3. Describe three different data types.\n",
    "\n",
    "\n",
    "###Ans\n",
    "# 1. integer\n",
    "#        the data type used to represent the numerical values. example  a = 10\n",
    "\n",
    "# 2. string\n",
    "#        the data type used to represent the characters in the formof enclosed with single or double quotes . whatever the value \n",
    "#      we given in between the single or double quotes it converted to string. example  s = \" raju1234\"\n",
    "\n",
    "# 3. float\n",
    "#        the data type used to represent the decimal type numarical values . example a = 4.75\n",
    "\n"
   ]
  },
  {
   "cell_type": "code",
   "execution_count": null,
   "id": "31b6d566",
   "metadata": {},
   "outputs": [],
   "source": [
    "# 4. What is an expression made up of? What do all expressions do?\n",
    "\n",
    "###Ans\n",
    "# case 1: expression is the combination of both operators and operends.\n",
    "# example 10 + 15 = 25\n",
    "# here + is arthimatical operator\n",
    "# here = is assinged operator \n",
    "# here 10 , 15 are operends \n",
    "\n",
    "# case 2: \n",
    "#     expressions are use to perform the computation and gives the results of the computation\n"
   ]
  },
  {
   "cell_type": "code",
   "execution_count": null,
   "id": "65521124",
   "metadata": {},
   "outputs": [],
   "source": [
    "# 5.This assignment statements, like spam = 10. What is the difference between an expression and a statement?\n",
    "###Ans\n",
    "# expression:\n",
    "#       expression is a piece of code that prouduces a value.\n",
    "#   k= 50\n",
    "#   age = k/5 \n",
    "# k/5 is expression and age = k/5 is a statement\n",
    "\n",
    "# statement:\n",
    "#     assigning a value to the variable\n"
   ]
  },
  {
   "cell_type": "code",
   "execution_count": 1,
   "id": "4339a1d9",
   "metadata": {},
   "outputs": [
    {
     "data": {
      "text/plain": [
       "23"
      ]
     },
     "execution_count": 1,
     "metadata": {},
     "output_type": "execute_result"
    }
   ],
   "source": [
    "# 6. After running the following code, what does the variable bacon contain?\n",
    "\n",
    "###Ans\n",
    "bacon = 22\n",
    "bacon+1\n"
   ]
  },
  {
   "cell_type": "code",
   "execution_count": 2,
   "id": "c4721510",
   "metadata": {},
   "outputs": [
    {
     "data": {
      "text/plain": [
       "'spamspamspam'"
      ]
     },
     "execution_count": 2,
     "metadata": {},
     "output_type": "execute_result"
    }
   ],
   "source": [
    "# 7.What should the values of the following two terms be?\n",
    "\n",
    "###Ans\n",
    "'spam'+'spamspam'\n"
   ]
  },
  {
   "cell_type": "code",
   "execution_count": 3,
   "id": "d6091615",
   "metadata": {},
   "outputs": [
    {
     "data": {
      "text/plain": [
       "'spamspamspam'"
      ]
     },
     "execution_count": 3,
     "metadata": {},
     "output_type": "execute_result"
    }
   ],
   "source": [
    "###Ans\n",
    "'spam'*3\n"
   ]
  },
  {
   "cell_type": "code",
   "execution_count": null,
   "id": "f4583865",
   "metadata": {},
   "outputs": [],
   "source": [
    "# 8. Why is eggs a valid variable name while 100 is invalid?\n",
    "\n",
    "###Ans\n",
    "# variable name must be start with the letter or underscore character but it cannit start with the number , because eggs is \n",
    "# valid variable"
   ]
  },
  {
   "cell_type": "code",
   "execution_count": null,
   "id": "7f86f481",
   "metadata": {},
   "outputs": [],
   "source": [
    "# 9. What three functions can be used to get the integer, floating-point number, or string version of a value?\n",
    "\n",
    "###Ans\n",
    "#   integer function int()\n",
    "#  floating point number function float()\n",
    "#  string function str()\n"
   ]
  },
  {
   "cell_type": "code",
   "execution_count": 6,
   "id": "0e9e3cc8",
   "metadata": {},
   "outputs": [
    {
     "data": {
      "text/plain": [
       "'i have eaten 99 burritos'"
      ]
     },
     "execution_count": 6,
     "metadata": {},
     "output_type": "execute_result"
    }
   ],
   "source": [
    "# 10. Why does this expression cause an error? How can you fix it?\n",
    "#  'i have eaten' + 99 + 'burritos'\n",
    "\n",
    "###Ans\n",
    "#   here 99 is not string. it is integer . integer and string addition is not possible\n",
    "#  if we convert integer to string , concatenation  is possible\n",
    "\n",
    "'i have eaten' + ' 99 ' + 'burritos'"
   ]
  },
  {
   "cell_type": "code",
   "execution_count": null,
   "id": "19749aba",
   "metadata": {},
   "outputs": [],
   "source": []
  }
 ],
 "metadata": {
  "kernelspec": {
   "display_name": "Python 3 (ipykernel)",
   "language": "python",
   "name": "python3"
  },
  "language_info": {
   "codemirror_mode": {
    "name": "ipython",
    "version": 3
   },
   "file_extension": ".py",
   "mimetype": "text/x-python",
   "name": "python",
   "nbconvert_exporter": "python",
   "pygments_lexer": "ipython3",
   "version": "3.9.12"
  }
 },
 "nbformat": 4,
 "nbformat_minor": 5
}
